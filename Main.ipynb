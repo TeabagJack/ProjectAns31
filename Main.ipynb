{
 "cells": [
  {
   "cell_type": "code",
   "execution_count": 30,
   "metadata": {},
   "outputs": [
    {
     "name": "stdout",
     "output_type": "stream",
     "text": [
      "Data Science is the interdisciplinary field that uses scientific methods, algorithms, processes, and systems to extract knowledge and insights from structured and unstructured data.\n",
      "clean and tokenized: data science interdisciplinary field us scientific method algorithm process system extract knowledge insight structured unstructured data\n",
      "\n",
      "Knowledge Engineering is a subfield of artificial intelligence (AI) that focuses on developing and maintaining knowledge-based systems, which use domain-specific knowledge to solve complex problems.\n",
      "clean and tokenized: knowledge engineering subfield artificial intelligence ai focus developing maintaining knowledgebased system use domainspecific knowledge solve complex problem\n",
      "\n",
      "In Data Science, machine learning algorithms are often used to build predictive models and make data-driven decisions.\n",
      "clean and tokenized: data science machine learning algorithm often used build predictive model make datadriven decision\n",
      "\n",
      "Knowledge Engineering involves the creation and management of knowledge bases, ontologies, and expert systems to facilitate knowledge representation and reasoning.\n",
      "clean and tokenized: knowledge engineering involves creation management knowledge base ontology expert system facilitate knowledge representation reasoning\n",
      "\n",
      "Data Scientists use programming languages like Python, R, and Julia to analyze data, create visualizations, and build machine learning models.\n",
      "clean and tokenized: data scientist use programming language like python r julia analyze data create visualization build machine learning model\n",
      "\n",
      "Knowledge Engineers work on designing knowledge acquisition systems, defining ontologies, and developing inference engines to enable automated reasoning.\n",
      "clean and tokenized: knowledge engineer work designing knowledge acquisition system defining ontology developing inference engine enable automated reasoning\n",
      "\n",
      "Data Science plays a crucial role in various industries, including healthcare, finance, marketing, and technology, by leveraging data to improve decision-making processes.\n",
      "clean and tokenized: data science play crucial role various industry including healthcare finance marketing technology leveraging data improve decisionmaking process\n",
      "\n",
      "Knowledge Engineering is fundamental in developing expert systems that can provide expert-level advice and decision support in specialized domains.\n",
      "clean and tokenized: knowledge engineering fundamental developing expert system provide expertlevel advice decision support specialized domain\n",
      "\n"
     ]
    }
   ],
   "source": [
    "import re\n",
    "import nltk\n",
    "from nltk.corpus import stopwords\n",
    "from nltk.stem import PorterStemmer, WordNetLemmatizer\n",
    "from nltk.tokenize import word_tokenize\n",
    "from sklearn.feature_extraction.text import CountVectorizer\n",
    "\n",
    "\n",
    "# substitute this later by data from Ans\n",
    "texts = [\n",
    "    \"Data Science is the interdisciplinary field that uses scientific methods, algorithms, processes, and systems to extract knowledge and insights from structured and unstructured data.\",\n",
    "    \"Knowledge Engineering is a subfield of artificial intelligence (AI) that focuses on developing and maintaining knowledge-based systems, which use domain-specific knowledge to solve complex problems.\",\n",
    "    \"In Data Science, machine learning algorithms are often used to build predictive models and make data-driven decisions.\",\n",
    "    \"Knowledge Engineering involves the creation and management of knowledge bases, ontologies, and expert systems to facilitate knowledge representation and reasoning.\",\n",
    "    \"Data Scientists use programming languages like Python, R, and Julia to analyze data, create visualizations, and build machine learning models.\",\n",
    "    \"Knowledge Engineers work on designing knowledge acquisition systems, defining ontologies, and developing inference engines to enable automated reasoning.\",\n",
    "    \"Data Science plays a crucial role in various industries, including healthcare, finance, marketing, and technology, by leveraging data to improve decision-making processes.\",\n",
    "    \"Knowledge Engineering is fundamental in developing expert systems that can provide expert-level advice and decision support in specialized domains.\",\n",
    "]\n",
    "\n",
    "\n",
    "# Stopwords list, yknow common words like uhh.. in the and, you get the point\n",
    "stop_words = set(stopwords.words('english'))\n",
    "\n",
    "# stemmer and lemmatizer, this reduces everything to their stem by edit/removing parts of the word. choose either stemmer or lemmatizer.. \n",
    "# look up wat the difference is if you dunno but they do the same thing, in a different way. Lemmatizer better tho\n",
    "\n",
    "stemmer = PorterStemmer()\n",
    "lemmatizer = WordNetLemmatizer()\n",
    "\n",
    "def preprocess_text(text):\n",
    "    \n",
    "    # lowercasing\n",
    "    text = text.lower()\n",
    "    \n",
    "    # remove punctuation and numbers\n",
    "    text = re.sub(r'[^a-z\\s]', '', text)\n",
    "    \n",
    "    # tokenize with NLTK\n",
    "    tokens = word_tokenize(text)\n",
    "    \n",
    "    # get rid of stopwords\n",
    "    tokens = [word for word in tokens if word not in stop_words]\n",
    "    \n",
    "    # option 1: stemmer\n",
    "    # tokens = [stemmer.stem(word) for word in tokens]\n",
    "    # option 2: lemmatizer\n",
    "    tokens = [lemmatizer.lemmatize(word) for word in tokens]\n",
    "    \n",
    "    # there's more that we can do to make it fit our data, which we still need\n",
    "    return ' '.join(tokens)  # Return as a string for the vectorizer\n",
    "\n",
    "# preproces line by line\n",
    "\n",
    "preprocessed_texts = [preprocess_text(sentence) for sentence in texts]\n",
    "\n",
    "vectorizer = CountVectorizer(binary=True)  # binary=True will ensure the result is one-hot encoded\n",
    "sparse_matrix = vectorizer.fit_transform(preprocessed_texts)\n",
    "\n",
    "for textin, textclean in zip(texts, preprocessed_texts):\n",
    "    print(textin)\n",
    "    print(\"clean and tokenized:\", textclean)\n",
    "    print('')\n",
    "    \n"
   ]
  },
  {
   "cell_type": "code",
   "execution_count": 32,
   "metadata": {},
   "outputs": [
    {
     "name": "stdout",
     "output_type": "stream",
     "text": [
      "data: 2, science: 1, interdisciplinary: 1, field: 1, us: 1, scientific: 1, method: 1, algorithm: 1, process: 1, system: 1, extract: 1, knowledge: 1, insight: 1, structured: 1, unstructured: 1\n",
      "\n",
      "knowledge: 2, engineering: 1, subfield: 1, artificial: 1, intelligence: 1, ai: 1, focus: 1, developing: 1, maintaining: 1, knowledgebased: 1, system: 1, use: 1, domainspecific: 1, solve: 1, complex: 1, problem: 1\n",
      "\n",
      "data: 1, science: 1, machine: 1, learning: 1, algorithm: 1, often: 1, used: 1, build: 1, predictive: 1, model: 1, make: 1, datadriven: 1, decision: 1\n",
      "\n",
      "knowledge: 3, engineering: 1, involves: 1, creation: 1, management: 1, base: 1, ontology: 1, expert: 1, system: 1, facilitate: 1, representation: 1, reasoning: 1\n",
      "\n",
      "data: 2, scientist: 1, use: 1, programming: 1, language: 1, like: 1, python: 1, r: 1, julia: 1, analyze: 1, create: 1, visualization: 1, build: 1, machine: 1, learning: 1, model: 1\n",
      "\n",
      "knowledge: 2, engineer: 1, work: 1, designing: 1, acquisition: 1, system: 1, defining: 1, ontology: 1, developing: 1, inference: 1, engine: 1, enable: 1, automated: 1, reasoning: 1\n",
      "\n",
      "data: 2, science: 1, play: 1, crucial: 1, role: 1, various: 1, industry: 1, including: 1, healthcare: 1, finance: 1, marketing: 1, technology: 1, leveraging: 1, improve: 1, decisionmaking: 1, process: 1\n",
      "\n",
      "knowledge: 1, engineering: 1, fundamental: 1, developing: 1, expert: 1, system: 1, provide: 1, expertlevel: 1, advice: 1, decision: 1, support: 1, specialized: 1, domain: 1\n",
      "\n"
     ]
    }
   ],
   "source": [
    "for sentence in preprocessed_texts:\n",
    "    word_counts = Counter(sentence.split())\n",
    "    \n",
    "    freq_str = ', '.join([f\"{word}: {count}\" for word, count in word_counts.items()])\n",
    "    print(freq_str)\n",
    "    print(\"\")\n",
    "\n"
   ]
  }
 ],
 "metadata": {
  "kernelspec": {
   "display_name": "base",
   "language": "python",
   "name": "python3"
  },
  "language_info": {
   "codemirror_mode": {
    "name": "ipython",
    "version": 3
   },
   "file_extension": ".py",
   "mimetype": "text/x-python",
   "name": "python",
   "nbconvert_exporter": "python",
   "pygments_lexer": "ipython3",
   "version": "3.10.11"
  },
  "orig_nbformat": 4
 },
 "nbformat": 4,
 "nbformat_minor": 2
}
